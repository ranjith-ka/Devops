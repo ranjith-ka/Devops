{
 "cells": [
  {
   "cell_type": "markdown",
   "id": "55801520825c5260",
   "metadata": {},
   "source": [
    "# Tuples"
   ]
  },
  {
   "cell_type": "markdown",
   "id": "861ddfaa2112fc7e",
   "metadata": {},
   "source": [
    "Notes:\n",
    "- Its immutable (can't change the values)\n",
    "-"
   ]
  },
  {
   "cell_type": "code",
   "execution_count": null,
   "id": "251a52ccbd3c3802",
   "metadata": {},
   "outputs": [],
   "source": [
    "tup = (1,2,3)\n",
    "print(tup)"
   ]
  },
  {
   "cell_type": "code",
   "execution_count": null,
   "id": "76359ceb2de3c5d0",
   "metadata": {},
   "outputs": [],
   "source": [
    "tup = (1,2,3)\n",
    "print(tup[0])\n",
    "print(tup.index(1))\n",
    "print(tup.count(3))\n",
    "d = [3, 5, 6 ]\n",
    "\n",
    "d.clear()\n",
    "print(d)"
   ]
  },
  {
   "cell_type": "code",
   "execution_count": null,
   "id": "f74b3758f24e3501",
   "metadata": {},
   "outputs": [],
   "source": [
    "tup = (1,4,5,3)\n",
    "if 3 in tup:\n",
    "    print(\"That is true\")\n",
    "else:\n",
    "    print(\"That is false\")"
   ]
  },
  {
   "cell_type": "markdown",
   "id": "99ff30991bad9aee",
   "metadata": {},
   "source": [
    "# Dictionary"
   ]
  },
  {
   "cell_type": "markdown",
   "id": "9d5e6627de8ab5ac",
   "metadata": {},
   "source": [
    "sorted, job.values(), job.keys(), for i in key ()\n",
    "\n",
    "{ 'name': '[\"R\", \"Y\", \"B\"]' }"
   ]
  },
  {
   "cell_type": "code",
   "execution_count": null,
   "id": "c4d033ef4f6b3894",
   "metadata": {},
   "outputs": [],
   "source": [
    "user = {'name':'jack','age':18, 'gender':'male'}\n",
    "print(user)\n",
    "print(user['age'])\n",
    "print(user['gender'])"
   ]
  },
  {
   "cell_type": "markdown",
   "id": "f2f7f39df4a745a7",
   "metadata": {},
   "source": [
    "### New Key value pair"
   ]
  },
  {
   "cell_type": "code",
   "execution_count": null,
   "id": "59a80447ff1241b",
   "metadata": {},
   "outputs": [],
   "source": [
    "user['city'] = \"kkl\"\n",
    "print(user)\n",
    "user['age'] = 20\n",
    "print(user)\n",
    "del user['age']\n",
    "print(user)\n",
    "\n",
    "for k,v in user.items():\n",
    "    print(k,v)\n",
    "\n",
    "for k in user.keys():\n",
    "    print(k)\n",
    "print(\"*****\")\n",
    "for k in sorted(user.keys()):\n",
    "    print(k)"
   ]
  },
  {
   "cell_type": "code",
   "execution_count": null,
   "id": "60707e6dc36da1a1",
   "metadata": {},
   "outputs": [],
   "source": [
    "users = []\n",
    "user = {\"name\": \"jack\", \"age\": 18, \"gender\": \"male\"}\n",
    "user2 = {\"name\": \"fgfh\", \"age\": 20, \"gender\": \"male\"}\n",
    "users.append(user)\n",
    "users.append(user2)\n",
    "user['mobile'] = [\"moto\", \"iqo\", \"vivo\"]\n",
    "print(users)"
   ]
  },
  {
   "cell_type": "markdown",
   "id": "b986f9e649a8c65a",
   "metadata": {},
   "source": [
    "### Set"
   ]
  },
  {
   "cell_type": "code",
   "execution_count": null,
   "id": "a1d1e8036e43b2d3",
   "metadata": {},
   "outputs": [],
   "source": [
    "### Only Unique elements\n",
    "colors = {\"R\",\"G\",\"B\",\"R\"}\n",
    "print(colors)\n",
    "\n",
    "color_list = list(colors)\n",
    "print(color_list)"
   ]
  },
  {
   "cell_type": "markdown",
   "id": "6085798d49794326",
   "metadata": {},
   "source": [
    "# String Formatting"
   ]
  },
  {
   "cell_type": "code",
   "execution_count": null,
   "id": "149c51cd94125180",
   "metadata": {},
   "outputs": [],
   "source": [
    "name = \"RK\"\n",
    "like1 = \"mm\"\n",
    "like2 = \"jj\"\n",
    "\n",
    "text = '{} likes {} and {}'\n",
    "print(text.format(name,like1,like2))\n",
    "\n",
    "text = ' {0} likes {2} and {1} '\n",
    "print(text.format(name,like1,like2))\n",
    "\n",
    "test = '{name} likes {like1} and {like2}'\n",
    "print(test.format(name='💕',like1='🙈',like2='👀'))\n"
   ]
  },
  {
   "cell_type": "code",
   "execution_count": null,
   "id": "31ae2b86c9cf2e1b",
   "metadata": {},
   "outputs": [],
   "source": [
    "print(\"****{msg:20}****\".format(msg=\"hi\"))\n",
    "pi = 3.14152\n",
    "print(\"The value of pi is {0}\".format(pi))\n",
    "print(\"The value of pi is {:.3f}\".format(pi))\n",
    "num = 1000000\n",
    "print(\"The value of num is {:,}\".format(num))\n",
    "print(\"The value of num is {:b}\".format(num))"
   ]
  }
 ],
 "metadata": {
  "kernelspec": {
   "display_name": "Devops (3.13.5)",
   "language": "python",
   "name": "python3"
  },
  "language_info": {
   "name": "python",
   "version": "3.13.5"
  }
 },
 "nbformat": 4,
 "nbformat_minor": 5
}
