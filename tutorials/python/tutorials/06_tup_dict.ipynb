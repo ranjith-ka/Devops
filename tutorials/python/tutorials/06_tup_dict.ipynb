{
 "cells": [
  {
   "metadata": {},
   "cell_type": "markdown",
   "source": "# Tuples",
   "id": "55801520825c5260"
  },
  {
   "metadata": {
    "ExecuteTime": {
     "end_time": "2025-09-01T18:09:27.903568Z",
     "start_time": "2025-09-01T18:09:27.899419Z"
    }
   },
   "cell_type": "code",
   "source": [
    "tup = (1,2,3)\n",
    "print(tup)"
   ],
   "id": "251a52ccbd3c3802",
   "outputs": [
    {
     "name": "stdout",
     "output_type": "stream",
     "text": [
      "(1, 2, 3)\n"
     ]
    }
   ],
   "execution_count": 1
  },
  {
   "metadata": {
    "ExecuteTime": {
     "end_time": "2025-09-01T18:11:30.037349Z",
     "start_time": "2025-09-01T18:11:30.033977Z"
    }
   },
   "cell_type": "code",
   "source": [
    "tup = (1,2,3)\n",
    "print(tup[0])\n",
    "print(tup.index(1))\n",
    "print(tup.count(3))"
   ],
   "id": "76359ceb2de3c5d0",
   "outputs": [
    {
     "name": "stdout",
     "output_type": "stream",
     "text": [
      "1\n",
      "0\n",
      "1\n"
     ]
    }
   ],
   "execution_count": 9
  },
  {
   "metadata": {
    "ExecuteTime": {
     "end_time": "2025-09-01T18:13:06.045886Z",
     "start_time": "2025-09-01T18:13:06.043758Z"
    }
   },
   "cell_type": "code",
   "source": [
    "tup = (1,4,5,6)\n",
    "if 3 in tup:\n",
    "    print(\"That is true\")\n",
    "else:\n",
    "    print(\"That is false\")"
   ],
   "id": "f74b3758f24e3501",
   "outputs": [
    {
     "name": "stdout",
     "output_type": "stream",
     "text": [
      "That is false\n"
     ]
    }
   ],
   "execution_count": 11
  },
  {
   "metadata": {},
   "cell_type": "markdown",
   "source": "# Dictionary",
   "id": "99ff30991bad9aee"
  },
  {
   "metadata": {},
   "cell_type": "markdown",
   "source": [
    "sorted, job.values(), job.keys(), for i in key ()\n",
    "\n",
    "{ 'name': '[\"R\", \"Y\", \"B\"]' }"
   ],
   "id": "9d5e6627de8ab5ac"
  },
  {
   "metadata": {},
   "cell_type": "code",
   "outputs": [],
   "execution_count": null,
   "source": "",
   "id": "c4d033ef4f6b3894"
  },
  {
   "metadata": {},
   "cell_type": "markdown",
   "source": "# Set",
   "id": "b986f9e649a8c65a"
  },
  {
   "metadata": {},
   "cell_type": "markdown",
   "source": [
    "only keys in set, no duplicates, no order\n",
    "c = { 'b', 'r', 'y'}\n"
   ],
   "id": "f7e5480de56383ab"
  },
  {
   "metadata": {},
   "cell_type": "markdown",
   "source": "# String Formatting",
   "id": "6085798d49794326"
  },
  {
   "metadata": {},
   "cell_type": "markdown",
   "source": "",
   "id": "d6dae00f8a2af8c3"
  }
 ],
 "metadata": {
  "kernelspec": {
   "name": "python3",
   "language": "python",
   "display_name": "Python 3 (ipykernel)"
  }
 },
 "nbformat": 4,
 "nbformat_minor": 5
}
