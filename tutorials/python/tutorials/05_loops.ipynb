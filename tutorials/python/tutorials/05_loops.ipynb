{
 "cells": [
  {
   "cell_type": "code",
   "id": "initial_id",
   "metadata": {
    "collapsed": true
   },
   "source": [
    "from collections import deque\n",
    "\n",
    "letter = ''\n",
    "while not letter.isalpha():\n",
    "    letter = input('Enter a letter: ')\n",
    "print(\"This is:\", letter)"
   ],
   "outputs": [],
   "execution_count": null
  },
  {
   "metadata": {},
   "cell_type": "code",
   "source": [
    "num = 1\n",
    "while num <= 100:\n",
    "    print(num)\n",
    "    num += 1\n",
    "    if num == 100:\n",
    "        break\n"
   ],
   "id": "4e92a145737b5499",
   "outputs": [],
   "execution_count": null
  },
  {
   "metadata": {},
   "cell_type": "code",
   "source": [
    "num = [ 1, 3, 5, 9]\n",
    "\n",
    "for num in num:\n",
    "    if num == 5:\n",
    "        print(num*num)\n",
    "        break\n",
    "    print(num*num)\n",
    "else:\n",
    "    print('The number is', num)\n"
   ],
   "id": "1476de1a81ea8786",
   "outputs": [],
   "execution_count": null
  },
  {
   "metadata": {
    "ExecuteTime": {
     "end_time": "2025-09-28T17:01:38.802589Z",
     "start_time": "2025-09-28T17:01:32.687127Z"
    }
   },
   "cell_type": "code",
   "source": [
    "import random\n",
    "num = random.randint(1, 5)\n",
    "guess = int(input('Guess a number between 1 and 5: '))\n",
    "while num != guess:\n",
    "    if num < guess:\n",
    "        print('Too high')\n",
    "    elif num > guess:\n",
    "        print('Too low')\n",
    "    guess = int(input('Guess a number between 1 and 5: '))\n",
    "if num == guess:\n",
    "    print('Correct!')\n"
   ],
   "id": "1ff34fed724c4168",
   "outputs": [
    {
     "name": "stdout",
     "output_type": "stream",
     "text": [
      "Too low\n",
      "Correct!\n"
     ]
    }
   ],
   "execution_count": 2
  },
  {
   "metadata": {},
   "cell_type": "code",
   "source": [
    "for i in range(1, 5):\n",
    "    for j in range(1, 6):\n",
    "        print(\"j\", end=' ')\n",
    "    print('')"
   ],
   "id": "4c4180ae2a571f11",
   "outputs": [],
   "execution_count": null
  },
  {
   "metadata": {},
   "cell_type": "code",
   "source": [
    "my_string = [ \"Q, W, E, R, T, Y\"]\n",
    "my_list = my_string[0].split(\",\")\n",
    "print(my_list)\n",
    "str2 = ''\n",
    "for i in my_list:\n",
    "    str2 += i\n",
    "print(str2)"
   ],
   "id": "ccfa78724ed98bc8",
   "outputs": [],
   "execution_count": null
  },
  {
   "metadata": {},
   "cell_type": "code",
   "source": [
    "my_string = [ \"Q, W, E, R, T, Y\"]\n",
    "print(my_string)\n",
    "for i in range(len(my_string)):\n",
    "    for j in (my_string[i]):\n",
    "        if j == ',' :\n",
    "            continue\n",
    "        if j == ' ':\n",
    "            continue\n",
    "        print(j, end=' ')\n"
   ],
   "id": "22d7050735caa059",
   "outputs": [],
   "execution_count": null
  },
  {
   "metadata": {},
   "cell_type": "code",
   "source": [
    "for i in range(1,6):\n",
    "    for j in range(1,6):\n",
    "        print(\"1\", end=' ')\n",
    "    print('')"
   ],
   "id": "e2ab92aea20b2bb0",
   "outputs": [],
   "execution_count": null
  },
  {
   "metadata": {},
   "cell_type": "code",
   "source": [
    "for i in range(1,4):\n",
    "    for j in range(1,7):\n",
    "        if j % 2 == 0:\n",
    "            print(j, end=' ')\n",
    "    print(i)"
   ],
   "id": "acc2d6bfeb0ac3f6",
   "outputs": [],
   "execution_count": null
  },
  {
   "metadata": {
    "ExecuteTime": {
     "end_time": "2025-09-28T17:01:20.017994Z",
     "start_time": "2025-09-28T17:01:20.013656Z"
    }
   },
   "cell_type": "code",
   "source": [
    "from collections import deque\n",
    "arr = [1,3,-1,-3,5,8,6,7]\n",
    "print(arr)\n",
    "s = deque(arr)\n",
    "print(s)\n",
    "print(s[0])\n",
    "print(s[-1])\n",
    "s.popleft()\n",
    "print(s[0])\n",
    "print(s[-1])\n",
    "\n",
    "\n"
   ],
   "id": "c5f5f969a56be29c",
   "outputs": [
    {
     "name": "stdout",
     "output_type": "stream",
     "text": [
      "[1, 3, -1, -3, 5, 8, 6, 7]\n",
      "deque([1, 3, -1, -3, 5, 8, 6, 7])\n",
      "1\n",
      "7\n",
      "3\n",
      "7\n"
     ]
    }
   ],
   "execution_count": 1
  }
 ],
 "metadata": {
  "kernelspec": {
   "display_name": "Python 3",
   "language": "python",
   "name": "python3"
  },
  "language_info": {
   "codemirror_mode": {
    "name": "ipython",
    "version": 2
   },
   "file_extension": ".py",
   "mimetype": "text/x-python",
   "name": "python",
   "nbconvert_exporter": "python",
   "pygments_lexer": "ipython2",
   "version": "2.7.6"
  }
 },
 "nbformat": 4,
 "nbformat_minor": 5
}
