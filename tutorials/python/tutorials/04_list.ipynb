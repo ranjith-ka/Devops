{
 "cells": [
  {
   "cell_type": "code",
   "id": "initial_id",
   "metadata": {
    "collapsed": true
   },
   "source": "# Insert",
   "outputs": [],
   "execution_count": null
  },
  {
   "metadata": {},
   "cell_type": "markdown",
   "source": "### Print List",
   "id": "24cf92b47cee4eb5"
  },
  {
   "metadata": {},
   "cell_type": "code",
   "source": [
    "Phones = [\"Apple\", \"Samsung\", \"Oppo\"]\n",
    "print(Phones)"
   ],
   "id": "e4131e1fb61dc8f6",
   "outputs": [],
   "execution_count": null
  },
  {
   "metadata": {},
   "cell_type": "code",
   "source": [
    "Phones = [\"Apple\", \"Samsung\", \"Oppo\"]\n",
    "Phones.append(\"Testing\")\n",
    "print(Phones)"
   ],
   "id": "135e1bad4c417d30",
   "outputs": [],
   "execution_count": null
  },
  {
   "metadata": {},
   "cell_type": "code",
   "source": [
    "Phones = [\"Apple\", \"Samsung\", \"Oppo\"]\n",
    "Phones.extend(\"Testing\")\n",
    "print(Phones)"
   ],
   "id": "1ca584a691ca9d4d",
   "outputs": [],
   "execution_count": null
  },
  {
   "metadata": {},
   "cell_type": "code",
   "source": [
    "Phones = [\"Apple\", \"Samsung\", \"Oppo\"]\n",
    "Phones.insert(0, \"Testing\")\n",
    "print(Phones)"
   ],
   "id": "c6b11845cfc4ad88",
   "outputs": [],
   "execution_count": null
  },
  {
   "metadata": {},
   "cell_type": "code",
   "source": [
    "Phones = [\"Apple\", \"Samsung\", \"Oppo\", \"Testing\"]\n",
    "deleted = Phones.pop(0)\n",
    "print(deleted)\n",
    "print(Phones)"
   ],
   "id": "3917c66d835d0579",
   "outputs": [],
   "execution_count": null
  },
  {
   "metadata": {},
   "cell_type": "code",
   "source": [
    "Phones = [\"Apple\", \"Samsung\", \"Oppo\", \"Testing\", \"Testing\" ]\n",
    "print(Phones)\n",
    "print(Phones.index(\"Testing\"))\n",
    "print(Phones.count(\"Testing\"))\n",
    "Phones.clear()"
   ],
   "id": "255fbb465f9ca74f",
   "outputs": [],
   "execution_count": null
  },
  {
   "metadata": {},
   "cell_type": "code",
   "source": [
    "Phones = [\"Apple\", \"Samsung\", \"Oppo\", \"Testing\", \"Testing\" ]\n",
    "new_list = sorted(Phones)\n",
    "print(new_list)\n",
    "print(Phones)\n",
    "Phones.sort()\n",
    "print(Phones)\n",
    "print(new_list)\n",
    "\n",
    "Phones.reverse()\n",
    "print(Phones)\n"
   ],
   "id": "6f66bf376ca05e18",
   "outputs": [],
   "execution_count": null
  }
 ],
 "metadata": {
  "kernelspec": {
   "display_name": "Python 3",
   "language": "python",
   "name": "python3"
  },
  "language_info": {
   "codemirror_mode": {
    "name": "ipython",
    "version": 2
   },
   "file_extension": ".py",
   "mimetype": "text/x-python",
   "name": "python",
   "nbconvert_exporter": "python",
   "pygments_lexer": "ipython2",
   "version": "2.7.6"
  }
 },
 "nbformat": 4,
 "nbformat_minor": 5
}
