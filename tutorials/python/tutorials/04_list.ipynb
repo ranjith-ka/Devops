{
 "cells": [
  {
   "cell_type": "code",
   "id": "initial_id",
   "metadata": {
    "collapsed": true
   },
   "source": "# Insert",
   "outputs": [],
   "execution_count": null
  },
  {
   "metadata": {},
   "cell_type": "markdown",
   "source": "### Print List",
   "id": "24cf92b47cee4eb5"
  },
  {
   "metadata": {
    "ExecuteTime": {
     "end_time": "2025-09-09T03:38:15.866395Z",
     "start_time": "2025-09-09T03:38:15.862438Z"
    }
   },
   "cell_type": "code",
   "source": [
    "Phones = [\"Apple\", \"Samsung\", \"Oppo\"]\n",
    "print(Phones)"
   ],
   "id": "e4131e1fb61dc8f6",
   "outputs": [
    {
     "name": "stdout",
     "output_type": "stream",
     "text": [
      "['Apple', 'Samsung', 'Oppo']\n"
     ]
    }
   ],
   "execution_count": 1
  },
  {
   "metadata": {
    "ExecuteTime": {
     "end_time": "2025-09-09T03:38:23.169837Z",
     "start_time": "2025-09-09T03:38:23.167025Z"
    }
   },
   "cell_type": "code",
   "source": [
    "Phones = [\"Apple\", \"Samsung\", \"Oppo\"]\n",
    "Phones.append(\"Testing\")\n",
    "print(Phones)"
   ],
   "id": "135e1bad4c417d30",
   "outputs": [
    {
     "name": "stdout",
     "output_type": "stream",
     "text": [
      "['Apple', 'Samsung', 'Oppo', 'Testing']\n"
     ]
    }
   ],
   "execution_count": 2
  },
  {
   "metadata": {
    "ExecuteTime": {
     "end_time": "2025-09-09T03:39:53.814706Z",
     "start_time": "2025-09-09T03:39:53.811954Z"
    }
   },
   "cell_type": "code",
   "source": [
    "Phones = [\"Apple\", \"Samsung\", \"Oppo\"]\n",
    "Phones.extend(\"Testing\")\n",
    "print(Phones)"
   ],
   "id": "1ca584a691ca9d4d",
   "outputs": [
    {
     "name": "stdout",
     "output_type": "stream",
     "text": [
      "['Apple', 'Samsung', 'Oppo', 'T', 'e', 's', 't', 'i', 'n', 'g']\n"
     ]
    }
   ],
   "execution_count": 6
  },
  {
   "metadata": {
    "ExecuteTime": {
     "end_time": "2025-09-09T03:40:07.812658Z",
     "start_time": "2025-09-09T03:40:07.810135Z"
    }
   },
   "cell_type": "code",
   "source": [
    "Phones = [\"Apple\", \"Samsung\", \"Oppo\"]\n",
    "Phones.insert(2, \"Testing\")\n",
    "print(Phones)"
   ],
   "id": "c6b11845cfc4ad88",
   "outputs": [
    {
     "name": "stdout",
     "output_type": "stream",
     "text": [
      "['Apple', 'Samsung', 'Testing', 'Oppo']\n"
     ]
    }
   ],
   "execution_count": 8
  },
  {
   "metadata": {
    "ExecuteTime": {
     "end_time": "2025-09-09T03:40:22.506718Z",
     "start_time": "2025-09-09T03:40:22.504741Z"
    }
   },
   "cell_type": "code",
   "source": [
    "## Pop to delete the object in list\n",
    "Phones = [\"Apple\", \"Samsung\", \"Oppo\", \"Testing\"]\n",
    "deleted = Phones.pop(0)\n",
    "print(deleted)\n",
    "print(Phones)"
   ],
   "id": "3917c66d835d0579",
   "outputs": [
    {
     "name": "stdout",
     "output_type": "stream",
     "text": [
      "Apple\n",
      "['Samsung', 'Oppo', 'Testing']\n"
     ]
    }
   ],
   "execution_count": 9
  },
  {
   "metadata": {},
   "cell_type": "code",
   "source": [
    "Phones = [\"Apple\", \"Samsung\", \"Oppo\", \"Testing\", \"Testing\" ]\n",
    "print(Phones)\n",
    "print(Phones.index(\"Testing\"))\n",
    "print(Phones.count(\"Testing\"))\n",
    "Phones.clear()"
   ],
   "id": "255fbb465f9ca74f",
   "outputs": [],
   "execution_count": null
  },
  {
   "metadata": {
    "ExecuteTime": {
     "end_time": "2025-09-09T03:41:41.772487Z",
     "start_time": "2025-09-09T03:41:41.770153Z"
    }
   },
   "cell_type": "code",
   "source": [
    "Phones = [\"Apple\", \"Samsung\", \"Oppo\", \"Testing\", \"Testing\" ]\n",
    "new_list = sorted(Phones)\n",
    "print(new_list)\n",
    "print(Phones)\n",
    "Phones.sort()\n",
    "print(Phones)\n",
    "print(new_list)\n",
    "\n",
    "Phones.reverse()\n",
    "print(Phones)\n"
   ],
   "id": "6f66bf376ca05e18",
   "outputs": [
    {
     "name": "stdout",
     "output_type": "stream",
     "text": [
      "['Apple', 'Oppo', 'Samsung', 'Testing', 'Testing']\n",
      "['Apple', 'Samsung', 'Oppo', 'Testing', 'Testing']\n",
      "['Apple', 'Oppo', 'Samsung', 'Testing', 'Testing']\n",
      "['Apple', 'Oppo', 'Samsung', 'Testing', 'Testing']\n",
      "['Testing', 'Testing', 'Samsung', 'Oppo', 'Apple']\n"
     ]
    }
   ],
   "execution_count": 10
  },
  {
   "metadata": {},
   "cell_type": "markdown",
   "source": "## 2 Dimensional List",
   "id": "c58d2bc13ae09771"
  },
  {
   "metadata": {
    "ExecuteTime": {
     "end_time": "2025-09-09T03:42:36.774699Z",
     "start_time": "2025-09-09T03:42:36.772425Z"
    }
   },
   "cell_type": "code",
   "source": [
    "Phones = [\"Apple\", \"Samsung\", \"Oppo\", \"Testing\", \"Testing\" ]\n",
    "mobile = Phones\n",
    "vivoPhone = [Phones, \"iqoo\"]\n",
    "print(vivoPhone[0][1])\n"
   ],
   "id": "1e63dc638aa4cfe9",
   "outputs": [
    {
     "name": "stdout",
     "output_type": "stream",
     "text": [
      "Samsung\n"
     ]
    }
   ],
   "execution_count": 2
  },
  {
   "metadata": {},
   "cell_type": "markdown",
   "source": "",
   "id": "b514e97f3f99c3d"
  }
 ],
 "metadata": {
  "kernelspec": {
   "display_name": "Python 3",
   "language": "python",
   "name": "python3"
  },
  "language_info": {
   "codemirror_mode": {
    "name": "ipython",
    "version": 2
   },
   "file_extension": ".py",
   "mimetype": "text/x-python",
   "name": "python",
   "nbconvert_exporter": "python",
   "pygments_lexer": "ipython2",
   "version": "2.7.6"
  }
 },
 "nbformat": 4,
 "nbformat_minor": 5
}
