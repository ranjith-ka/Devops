{
 "cells": [
  {
   "cell_type": "code",
   "id": "9ece10e0-1603-4ba3-8d64-e09965ff86e2",
   "metadata": {},
   "source": [
    "print(\"Hello\")"
   ],
   "outputs": [],
   "execution_count": null
  },
  {
   "cell_type": "markdown",
   "id": "eb244197-1f7c-4752-aefe-b1b35d7296c0",
   "metadata": {},
   "source": [
    "# Lets Try this"
   ]
  },
  {
   "cell_type": "code",
   "id": "d91e795b",
   "metadata": {},
   "source": [
    "print(\"Hello, JupyterLab!\")"
   ],
   "outputs": [],
   "execution_count": null
  }
 ],
 "metadata": {
  "kernelspec": {
   "display_name": "Devops (3.13.5)",
   "language": "python",
   "name": "python3"
  },
  "language_info": {
   "codemirror_mode": {
    "name": "ipython",
    "version": 3
   },
   "file_extension": ".py",
   "mimetype": "text/x-python",
   "name": "python",
   "nbconvert_exporter": "python",
   "pygments_lexer": "ipython3",
   "version": "3.13.5"
  }
 },
 "nbformat": 4,
 "nbformat_minor": 5
}
