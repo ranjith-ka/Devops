{
 "cells": [
  {
   "cell_type": "code",
   "execution_count": 2,
   "id": "9ece10e0-1603-4ba3-8d64-e09965ff86e2",
   "metadata": {},
   "outputs": [
    {
     "name": "stdout",
     "output_type": "stream",
     "text": [
      "Hello\n"
     ]
    }
   ],
   "source": [
    "print(\"Hello\")"
   ]
  },
  {
   "cell_type": "markdown",
   "id": "eb244197-1f7c-4752-aefe-b1b35d7296c0",
   "metadata": {},
   "source": [
    "# Lets Try this"
   ]
  },
  {
   "cell_type": "code",
   "execution_count": 3,
   "id": "d91e795b",
   "metadata": {},
   "outputs": [
    {
     "name": "stdout",
     "output_type": "stream",
     "text": [
      "Hello, JupyterLab!\n"
     ]
    }
   ],
   "source": [
    "print(\"Hello, JupyterLab!\")"
   ]
  }
 ],
 "metadata": {
  "kernelspec": {
   "display_name": "Devops (3.13.5)",
   "language": "python",
   "name": "python3"
  },
  "language_info": {
   "codemirror_mode": {
    "name": "ipython",
    "version": 3
   },
   "file_extension": ".py",
   "mimetype": "text/x-python",
   "name": "python",
   "nbconvert_exporter": "python",
   "pygments_lexer": "ipython3",
   "version": "3.13.5"
  }
 },
 "nbformat": 4,
 "nbformat_minor": 5
}
