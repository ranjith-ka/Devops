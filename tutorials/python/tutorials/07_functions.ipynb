{
 "cells": [
  {
   "metadata": {},
   "cell_type": "markdown",
   "source": "## Functions",
   "id": "a6af1cf870195688"
  },
  {
   "cell_type": "code",
   "id": "initial_id",
   "metadata": {
    "collapsed": true
   },
   "source": [
    "print(\"Hello\") # builtin functions\n",
    "num = input(\"What is your favourite number?\")  ## Arguments/parameters\n",
    "print(num) # Return value printed"
   ],
   "outputs": [],
   "execution_count": null
  },
  {
   "metadata": {},
   "cell_type": "code",
   "source": [
    "def func():\n",
    "    print(\"Hello\") # builtin functions\n",
    "    num1 = input(\"What is your favourite number?\")  ## Arguments/parameters\n",
    "    print(num1) # Return value printed\n",
    "func()\n",
    "func()\n",
    "func()"
   ],
   "id": "e3dec67d01955bb0",
   "outputs": [],
   "execution_count": null
  },
  {
   "metadata": {},
   "cell_type": "code",
   "source": [
    "def func1(name):\n",
    "    \"\"\"\" Docstring for documentation \"\"\"\n",
    "    print(\"Hello\", name)\n",
    "def func2(name, age):\n",
    "    \"\"\"\" Docstring for documentation \"\"\"\n",
    "    print(\"Hello\", name, age)\n",
    "func1(\"Ram\")\n",
    "func1(\"Ganesh\")\n",
    "func2(\"Ram\", 42)\n",
    "func2(\"Ganesh\", 42)"
   ],
   "id": "e91ec4ecd6effaf4",
   "outputs": [],
   "execution_count": null
  },
  {
   "metadata": {},
   "cell_type": "code",
   "source": [
    "def eval1(num1):\n",
    "    \"\"\"\" Docstring for documentation \"\"\"\n",
    "    return num1*(num1+1)/2\n",
    "\n",
    "result = eval1(23)\n",
    "print(result)"
   ],
   "id": "a0ca7ef1209609be",
   "outputs": [],
   "execution_count": null
  },
  {
   "metadata": {},
   "cell_type": "markdown",
   "source": "### Variable scope",
   "id": "4a737ce12ddf02c5"
  },
  {
   "metadata": {},
   "cell_type": "code",
   "source": [
    "## Global variable\n",
    "num = 20\n",
    "num1 = 30\n",
    "def welcome(name):\n",
    "    num = 120\n",
    "    global num1\n",
    "    print(num1)\n",
    "    num1 = 130 ## Change the global variable if required !\n",
    "    print(\"Welcome\", name)\n",
    "    print(num)\n",
    "    print(num1)\n",
    "\n",
    "welcome(\"Ranjith\")\n",
    "print(num)\n",
    "print(num1)\n"
   ],
   "id": "9bdacf2a4e1a18bc",
   "outputs": [],
   "execution_count": null
  },
  {
   "metadata": {},
   "cell_type": "markdown",
   "source": "### Variable Length Arguments",
   "id": "d0a7f27d902a7782"
  },
  {
   "metadata": {},
   "cell_type": "code",
   "source": [
    "def total(*numbers):\n",
    "    \"\"\"\" numbers is a tuple of numbers \"\"\"\n",
    "\n",
    "    smm = 0\n",
    "    for i in numbers:\n",
    "        smm = smm + i\n",
    "    return smm\n",
    "\n",
    "print(total(1,1,1,1,1))\n"
   ],
   "id": "3b67c6db1c0d2409",
   "outputs": [],
   "execution_count": null
  },
  {
   "metadata": {},
   "cell_type": "code",
   "source": [
    "user = {'name':'jack','age':18, 'gender':'male'}\n",
    "\n",
    "def city(**kwargs):\n",
    "    \"\"\" ** kwargs is of type dictionary, i.e key value pairs \"\"\"\n",
    "    for key, value in kwargs.items():\n",
    "        print(value)\n",
    "\n",
    "city(gg=\"ddf\", fg=\"fgf\")"
   ],
   "id": "3570fc8eeb67fc62",
   "outputs": [],
   "execution_count": null
  },
  {
   "metadata": {},
   "cell_type": "code",
   "source": [
    "### Default arg to pass, only at the last !!\n",
    "\n",
    "def greet(name, message=\"Hello\" ):\n",
    "    print(message, name)\n",
    "greet(\"Ranjith\")"
   ],
   "id": "6f8c5fe814b93ba6",
   "outputs": [],
   "execution_count": null
  },
  {
   "metadata": {},
   "cell_type": "code",
   "source": [
    "\n",
    "def mobile_list(list):\n",
    "    for i in range(0, len(list)):\n",
    "        list[i] = list[i].upper()\n",
    "        print(list[i])\n",
    "\n",
    "mobile = [\"moto\",\"Vivo\",\"oneplus\",\"iqoo\"]\n",
    "mobile_list(mobile[:])  ## Do not use the original list\n",
    "print(mobile)\n"
   ],
   "id": "edf283c2d5b2d834",
   "outputs": [],
   "execution_count": null
  },
  {
   "metadata": {},
   "cell_type": "code",
   "source": [
    "### Dictionary rerun\n",
    "\n",
    "def get_user_info():\n",
    "    \"\"\" \"\"\"\n",
    "    user = {'name': 'Kamal', 'age': 18, 'gender': 'male'}\n",
    "    user['mobile'] = [\"moto\", \"iqo\", \"vivo\"]\n",
    "    return user\n",
    "\n",
    "user1 = get_user_info()\n",
    "print(user1)"
   ],
   "id": "5ec5afaeb54ab090",
   "outputs": [],
   "execution_count": null
  },
  {
   "metadata": {},
   "cell_type": "code",
   "source": [
    "## Recursion of functions\n",
    "def fact(num):\n",
    "    if num == 0:\n",
    "        return 1\n",
    "    return num*fact(num-1)\n",
    "\n",
    "print(fact(4))"
   ],
   "id": "407bee74d9d70849",
   "outputs": [],
   "execution_count": null
  },
  {
   "metadata": {},
   "cell_type": "markdown",
   "source": "### Recursion in style",
   "id": "d33d54200928ce6b"
  },
  {
   "metadata": {},
   "cell_type": "code",
   "source": [
    "name = \"Python\"\n",
    "# 0 1 2 3 4 5\n",
    "# p y t h o n\n",
    "# name = \"Pyth\"\n",
    "print(name[::-1]) ## Reverse the string\n",
    "print(name[2::]) ## Print from 2nd index\n",
    "print(name[:2:]) ## Stop at 2nd character or index -1\n",
    "print(name[::2]) ## Print all the index, dont stop, jump 2 character , print index 0, 2, 4\n",
    "print(name[::-2]) ## print all and go in reverse  jump 2 character in reverse, print 5, 3, 1\n",
    "print(name[-1::1]) ## Start from -1 and jump 1\n"
   ],
   "id": "ea24aef686a23070",
   "outputs": [],
   "execution_count": null
  },
  {
   "metadata": {},
   "cell_type": "code",
   "source": [
    "def rev(s):\n",
    "    if len(s) == 0:\n",
    "        return s\n",
    "    return  rev(s[1:]) + s[0]\n",
    "print(rev(\"GoodsInReturn\"))"
   ],
   "id": "81e782ee68ebc30e",
   "outputs": [],
   "execution_count": null
  },
  {
   "metadata": {},
   "cell_type": "code",
   "source": [
    "### Generators are special type of iterable\n",
    "# yield works like call once and continue from there\n",
    "\n",
    "# Yield vs expr (next)\n",
    "\n",
    "# Memory efficient\n",
    "import sys\n",
    "normal_list = [num for num in range(1,101)]\n",
    "print(normal_list)\n",
    "\n",
    "gen_list = (num for num in range(1,101))\n",
    "print(gen_list)\n",
    "print(sys.getsizeof(normal_list))\n",
    "print(sys.getsizeof(gen_list))\n",
    "\n"
   ],
   "id": "db28ac9c9bb88e41",
   "outputs": [],
   "execution_count": null
  },
  {
   "metadata": {
    "ExecuteTime": {
     "end_time": "2025-09-09T02:56:32.935327Z",
     "start_time": "2025-09-09T02:56:32.933456Z"
    }
   },
   "cell_type": "code",
   "source": [
    "def sq_num(num):\n",
    "    sq = []\n",
    "    for i in range(1,num+1):\n",
    "        sq.append(i**2)\n",
    "    return sq\n",
    "print(sq_num(10))\n",
    "\n",
    "def sq_num_gen(num):\n",
    "    for i in range(1,num+1):\n",
    "        yield i**2\n",
    "\n",
    "\n"
   ],
   "id": "4163b326639e4f03",
   "outputs": [
    {
     "name": "stdout",
     "output_type": "stream",
     "text": [
      "[1, 4, 9, 16, 25, 36, 49, 64, 81, 100]\n"
     ]
    }
   ],
   "execution_count": 9
  }
 ],
 "metadata": {
  "kernelspec": {
   "display_name": "Python 3",
   "language": "python",
   "name": "python3"
  },
  "language_info": {
   "codemirror_mode": {
    "name": "ipython",
    "version": 2
   },
   "file_extension": ".py",
   "mimetype": "text/x-python",
   "name": "python",
   "nbconvert_exporter": "python",
   "pygments_lexer": "ipython2",
   "version": "2.7.6"
  }
 },
 "nbformat": 4,
 "nbformat_minor": 5
}
