{
 "cells": [
  {
   "metadata": {},
   "cell_type": "markdown",
   "source": "## Functions",
   "id": "a6af1cf870195688"
  },
  {
   "cell_type": "code",
   "id": "initial_id",
   "metadata": {
    "collapsed": true
   },
   "source": [
    "print(\"Hello\") # builtin functions\n",
    "num = input(\"What is your favourite number?\")  ## Arguments/parameters\n",
    "print(num) # Return value printed"
   ],
   "outputs": [],
   "execution_count": null
  },
  {
   "metadata": {},
   "cell_type": "code",
   "source": [
    "def func():\n",
    "    print(\"Hello\") # builtin functions\n",
    "    num1 = input(\"What is your favourite number?\")  ## Arguments/parameters\n",
    "    print(num1) # Return value printed\n",
    "func()\n",
    "func()\n",
    "func()"
   ],
   "id": "e3dec67d01955bb0",
   "outputs": [],
   "execution_count": null
  },
  {
   "metadata": {},
   "cell_type": "code",
   "source": [
    "def func1(name):\n",
    "    \"\"\"\" Docstring for documentation \"\"\"\n",
    "    print(\"Hello\", name)\n",
    "def func2(name, age):\n",
    "    \"\"\"\" Docstring for documentation \"\"\"\n",
    "    print(\"Hello\", name, age)\n",
    "func1(\"Ram\")\n",
    "func1(\"Ganesh\")\n",
    "func2(\"Ram\", 42)\n",
    "func2(\"Ganesh\", 42)"
   ],
   "id": "e91ec4ecd6effaf4",
   "outputs": [],
   "execution_count": null
  },
  {
   "metadata": {},
   "cell_type": "code",
   "source": [
    "def eval1(num1):\n",
    "    \"\"\"\" Docstring for documentation \"\"\"\n",
    "    return num1*(num1+1)/2\n",
    "\n",
    "result = eval1(23)\n",
    "print(result)"
   ],
   "id": "a0ca7ef1209609be",
   "outputs": [],
   "execution_count": null
  },
  {
   "metadata": {},
   "cell_type": "markdown",
   "source": "### Variable scope",
   "id": "4a737ce12ddf02c5"
  },
  {
   "metadata": {},
   "cell_type": "code",
   "source": [
    "## Global variable\n",
    "num = 20\n",
    "num1 = 30\n",
    "def welcome(name):\n",
    "    num = 120\n",
    "    global num1\n",
    "    print(num1)\n",
    "    num1 = 130 ## Change the global variable if required !\n",
    "    print(\"Welcome\", name)\n",
    "    print(num)\n",
    "    print(num1)\n",
    "\n",
    "welcome(\"Ranjith\")\n",
    "print(num)\n",
    "print(num1)\n"
   ],
   "id": "9bdacf2a4e1a18bc",
   "outputs": [],
   "execution_count": null
  },
  {
   "metadata": {},
   "cell_type": "markdown",
   "source": "### Variable Length Arguments",
   "id": "d0a7f27d902a7782"
  },
  {
   "metadata": {},
   "cell_type": "code",
   "source": [
    "def total(*numbers):\n",
    "    \"\"\"\" numbers is a tuple of numbers \"\"\"\n",
    "\n",
    "    smm = 0\n",
    "    for i in numbers:\n",
    "        smm = smm + i\n",
    "    return smm\n",
    "\n",
    "print(total(1,1,1,1,1))\n"
   ],
   "id": "3b67c6db1c0d2409",
   "outputs": [],
   "execution_count": null
  },
  {
   "metadata": {},
   "cell_type": "code",
   "source": [
    "user = {'name':'jack','age':18, 'gender':'male'}\n",
    "\n",
    "def city(**kwargs):\n",
    "    \"\"\" ** kwargs is of type dictionary, i.e key value pairs \"\"\"\n",
    "    for key, value in kwargs.items():\n",
    "        print(value)\n",
    "\n",
    "city(gg=\"ddf\", fg=\"fgf\")"
   ],
   "id": "3570fc8eeb67fc62",
   "outputs": [],
   "execution_count": null
  }
 ],
 "metadata": {
  "kernelspec": {
   "display_name": "Python 3",
   "language": "python",
   "name": "python3"
  },
  "language_info": {
   "codemirror_mode": {
    "name": "ipython",
    "version": 2
   },
   "file_extension": ".py",
   "mimetype": "text/x-python",
   "name": "python",
   "nbconvert_exporter": "python",
   "pygments_lexer": "ipython2",
   "version": "2.7.6"
  }
 },
 "nbformat": 4,
 "nbformat_minor": 5
}
